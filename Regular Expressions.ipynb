{
 "cells": [
  {
   "cell_type": "code",
   "execution_count": 1,
   "metadata": {},
   "outputs": [],
   "source": [
    "import re"
   ]
  },
  {
   "cell_type": "code",
   "execution_count": 2,
   "metadata": {},
   "outputs": [],
   "source": [
    "string = 'search inside of this text please!'"
   ]
  },
  {
   "cell_type": "code",
   "execution_count": 3,
   "metadata": {},
   "outputs": [
    {
     "name": "stdout",
     "output_type": "stream",
     "text": [
      "True\n"
     ]
    }
   ],
   "source": [
    "print('search' in string)"
   ]
  },
  {
   "cell_type": "code",
   "execution_count": 4,
   "metadata": {},
   "outputs": [
    {
     "name": "stdout",
     "output_type": "stream",
     "text": [
      "<re.Match object; span=(17, 21), match='this'>\n"
     ]
    }
   ],
   "source": [
    "print(re.search('this', string))"
   ]
  },
  {
   "cell_type": "code",
   "execution_count": 8,
   "metadata": {},
   "outputs": [
    {
     "name": "stdout",
     "output_type": "stream",
     "text": [
      "(7, 11)\n",
      "7\n",
      "11\n",
      "this\n"
     ]
    }
   ],
   "source": [
    "string = 'search this inside of this text please!'\n",
    "\n",
    "a = re.search('this', string)\n",
    "\n",
    "print(a.span())\n",
    "print(a.start())\n",
    "print(a.end())\n",
    "print(a.group())"
   ]
  },
  {
   "cell_type": "code",
   "execution_count": 13,
   "metadata": {},
   "outputs": [
    {
     "name": "stdout",
     "output_type": "stream",
     "text": [
      "this\n",
      "['this', 'this']\n",
      "None\n"
     ]
    }
   ],
   "source": [
    "pattern = re.compile('this')\n",
    "string = 'search this inside of this text please!'\n",
    "\n",
    "a = pattern.search(string)\n",
    "b = pattern.findall(string)\n",
    "c = pattern.fullmatch(string)\n",
    "\n",
    "print(a.group())\n",
    "print(b)\n",
    "print(c)"
   ]
  },
  {
   "cell_type": "code",
   "execution_count": 14,
   "metadata": {},
   "outputs": [
    {
     "name": "stdout",
     "output_type": "stream",
     "text": [
      "<re.Match object; span=(0, 39), match='search this inside of this text please!'>\n"
     ]
    }
   ],
   "source": [
    "pattern = re.compile('search this inside of this text please!')\n",
    "string = 'search this inside of this text please!'\n",
    "c = pattern.fullmatch(string)\n",
    "\n",
    "print(c)"
   ]
  },
  {
   "cell_type": "code",
   "execution_count": 15,
   "metadata": {},
   "outputs": [
    {
     "name": "stdout",
     "output_type": "stream",
     "text": [
      "None\n",
      "<re.Match object; span=(0, 39), match='search this inside of this text please!'>\n"
     ]
    }
   ],
   "source": [
    "pattern = re.compile('search this inside of this text please!')\n",
    "string = 'search this inside of this text please! Ashutosh'\n",
    "c = pattern.fullmatch(string)\n",
    "d = pattern.match(string)\n",
    "print(c)\n",
    "print(d)"
   ]
  },
  {
   "cell_type": "markdown",
   "metadata": {},
   "source": [
    "#### https://regex101.com/"
   ]
  },
  {
   "cell_type": "code",
   "execution_count": 18,
   "metadata": {},
   "outputs": [
    {
     "name": "stdout",
     "output_type": "stream",
     "text": [
      "<re.Match object; span=(0, 3), match='sea'>\n",
      "sea\n",
      "s\n",
      "a\n"
     ]
    }
   ],
   "source": [
    "import re\n",
    "\n",
    "pattern = re.compile(r\"([a-zA-Z]).([a])\")\n",
    "string = 'search this inside of this text please! Ashutosh'\n",
    "\n",
    "a = pattern.search(string)\n",
    "print(a)\n",
    "print(a.group())\n",
    "print(a.group(1))\n",
    "print(a.group(2))"
   ]
  },
  {
   "cell_type": "code",
   "execution_count": 20,
   "metadata": {},
   "outputs": [
    {
     "name": "stdout",
     "output_type": "stream",
     "text": [
      "<re.Match object; span=(7, 11), match='this'>\n",
      "this\n"
     ]
    }
   ],
   "source": [
    "import re\n",
    "\n",
    "pattern = re.compile(r\"this\")\n",
    "string = 'search this inside of this text please! Ashutosh'\n",
    "\n",
    "a = pattern.search(string)\n",
    "print(a)\n",
    "print(a.group())"
   ]
  },
  {
   "cell_type": "markdown",
   "metadata": {},
   "source": [
    "#### valid email validation"
   ]
  },
  {
   "cell_type": "markdown",
   "metadata": {},
   "source": [
    "r\"(^[a-zA-Z0-9_.+-]+@[a-zA-Z0-9-]+\\.[a-zA-Z0-9-.]+$)\""
   ]
  },
  {
   "cell_type": "code",
   "execution_count": 21,
   "metadata": {},
   "outputs": [
    {
     "name": "stdout",
     "output_type": "stream",
     "text": [
      "<re.Match object; span=(0, 7), match='a@a.com'>\n",
      "None\n",
      "<re.Match object; span=(0, 12), match='a@bcde.co.in'>\n"
     ]
    }
   ],
   "source": [
    "import re\n",
    "\n",
    "pattern = re.compile(r\"(^[a-zA-Z0-9_.+-]+@[a-zA-Z0-9-]+.[a-zA-Z0-9-.]+$)\")\n",
    "\n",
    "string1 = 'a@a.com'\n",
    "string2 = 'abc.com'\n",
    "string3 = 'a@bcde.co.in'\n",
    "\n",
    "a = pattern.search(string1)\n",
    "b = pattern.search(string2)\n",
    "c = pattern.search(string3)\n",
    "\n",
    "print(a)\n",
    "print(b)\n",
    "print(c)"
   ]
  },
  {
   "cell_type": "markdown",
   "metadata": {},
   "source": [
    "### password checker"
   ]
  },
  {
   "cell_type": "code",
   "execution_count": 23,
   "metadata": {},
   "outputs": [
    {
     "name": "stdout",
     "output_type": "stream",
     "text": [
      "<re.Match object; span=(0, 11), match='Super@tyy67'>\n",
      "None\n",
      "None\n"
     ]
    }
   ],
   "source": [
    "# at least 8 characters long\n",
    "# contain any sort letters, numbers $%#@\n",
    "# has to end with a number\n",
    "\n",
    "\n",
    "pattern =  re.compile(r\"[a-zA-Z0-9$%#@]{8,}\\d\")\n",
    "password1 = \"Super@tyy67\"\n",
    "password2 = \"Su@y67\"\n",
    "password3 = \"Super@tyy67hj\"\n",
    "\n",
    "check1 = pattern.fullmatch(password1)\n",
    "print(check1)\n",
    "\n",
    "check2 = pattern.fullmatch(password2)\n",
    "print(check2)\n",
    "\n",
    "check3 = pattern.fullmatch(password3)\n",
    "print(check3)"
   ]
  },
  {
   "cell_type": "code",
   "execution_count": null,
   "metadata": {},
   "outputs": [],
   "source": []
  }
 ],
 "metadata": {
  "kernelspec": {
   "display_name": "Python 3",
   "language": "python",
   "name": "python3"
  },
  "language_info": {
   "codemirror_mode": {
    "name": "ipython",
    "version": 3
   },
   "file_extension": ".py",
   "mimetype": "text/x-python",
   "name": "python",
   "nbconvert_exporter": "python",
   "pygments_lexer": "ipython3",
   "version": "3.8.5"
  }
 },
 "nbformat": 4,
 "nbformat_minor": 4
}
