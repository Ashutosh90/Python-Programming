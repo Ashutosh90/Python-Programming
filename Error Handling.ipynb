{
 "cells": [
  {
   "cell_type": "markdown",
   "metadata": {},
   "source": [
    "###10. Error Handling"
   ]
  },
  {
   "cell_type": "code",
   "execution_count": 2,
   "metadata": {},
   "outputs": [
    {
     "name": "stdout",
     "output_type": "stream",
     "text": [
      "What is your age? lkvdfkdfj\n",
      "Please enter a number\n",
      "What is your age? 0\n",
      "Please enter age higher than 0\n",
      "What is your age? 28\n",
      "Thank you!\n"
     ]
    }
   ],
   "source": [
    "# Example 1 \n",
    "while True:\n",
    "    try:\n",
    "        age = int(input('What is your age? '))\n",
    "        10/age\n",
    "    except ValueError:\n",
    "        print('Please enter a number')\n",
    "    except ZeroDivisionError:\n",
    "        print('Please enter age higher than 0')\n",
    "    else:\n",
    "        print('Thank you!')\n",
    "        break"
   ]
  },
  {
   "cell_type": "code",
   "execution_count": 13,
   "metadata": {},
   "outputs": [
    {
     "name": "stdout",
     "output_type": "stream",
     "text": [
      "Please enter numbers can only concatenate str (not \"int\") to str\n",
      "None\n"
     ]
    }
   ],
   "source": [
    "# Example 2\n",
    "def sum(num1,num2):\n",
    "    try:\n",
    "        return num1+num2\n",
    "    except TypeError as err:\n",
    "        print(f'Please enter numbers {err}')\n",
    "\n",
    "print(sum('4',2))"
   ]
  },
  {
   "cell_type": "code",
   "execution_count": 16,
   "metadata": {},
   "outputs": [
    {
     "name": "stdout",
     "output_type": "stream",
     "text": [
      "Please enter numbers unsupported operand type(s) for /: 'str' and 'int'\n",
      "None\n",
      "Please enter numbers division by zero\n",
      "None\n"
     ]
    }
   ],
   "source": [
    "# Example 3 -> We can combine multiple errors together\n",
    "def sum(num1,num2):\n",
    "    try:\n",
    "        return num1/num2\n",
    "    except (TypeError, ZeroDivisionError) as err:\n",
    "        print(f'Please enter numbers {err}')\n",
    "\n",
    "print(sum('4',2))\n",
    "print(sum(4,0))"
   ]
  },
  {
   "cell_type": "code",
   "execution_count": 18,
   "metadata": {},
   "outputs": [
    {
     "name": "stdout",
     "output_type": "stream",
     "text": [
      "Opps\n",
      "None\n",
      "Opps\n",
      "None\n"
     ]
    }
   ],
   "source": [
    "# Example 4 -> Showing same message for different errors\n",
    "def sum(num1,num2):\n",
    "    try:\n",
    "        return num1/num2\n",
    "    except (TypeError, ZeroDivisionError):\n",
    "        print('Opps')\n",
    "\n",
    "print(sum('4',2))\n",
    "print(sum(4,0))"
   ]
  },
  {
   "cell_type": "code",
   "execution_count": 19,
   "metadata": {},
   "outputs": [
    {
     "name": "stdout",
     "output_type": "stream",
     "text": [
      "What is your age? jgfhj\n",
      "Please enter a number\n",
      "ok, i am finally done!\n",
      "What is your age? 0\n",
      "Please enter age higher than 0\n",
      "ok, i am finally done!\n",
      "What is your age? 23\n",
      "Thank you!\n",
      "ok, i am finally done!\n"
     ]
    }
   ],
   "source": [
    "# Example 5 - finally runs regardless at the end of everything \n",
    "while True:\n",
    "    try:\n",
    "        age = int(input('What is your age? '))\n",
    "        10/age\n",
    "    except ValueError:\n",
    "        print('Please enter a number')\n",
    "    except ZeroDivisionError:\n",
    "        print('Please enter age higher than 0')\n",
    "    else:\n",
    "        print('Thank you!')\n",
    "        break\n",
    "    finally:\n",
    "        print('ok, i am finally done!')"
   ]
  },
  {
   "cell_type": "code",
   "execution_count": 20,
   "metadata": {},
   "outputs": [
    {
     "name": "stdout",
     "output_type": "stream",
     "text": [
      "What is your age? 5\n",
      "ok, i am finally done!\n"
     ]
    },
    {
     "ename": "ValueError",
     "evalue": "hey cut it out",
     "output_type": "error",
     "traceback": [
      "\u001b[1;31m---------------------------------------------------------------------------\u001b[0m",
      "\u001b[1;31mValueError\u001b[0m                                Traceback (most recent call last)",
      "\u001b[1;32m<ipython-input-20-638aa879f90d>\u001b[0m in \u001b[0;36m<module>\u001b[1;34m\u001b[0m\n\u001b[0;32m      4\u001b[0m         \u001b[0mage\u001b[0m \u001b[1;33m=\u001b[0m \u001b[0mint\u001b[0m\u001b[1;33m(\u001b[0m\u001b[0minput\u001b[0m\u001b[1;33m(\u001b[0m\u001b[1;34m'What is your age? '\u001b[0m\u001b[1;33m)\u001b[0m\u001b[1;33m)\u001b[0m\u001b[1;33m\u001b[0m\u001b[1;33m\u001b[0m\u001b[0m\n\u001b[0;32m      5\u001b[0m         \u001b[1;36m10\u001b[0m\u001b[1;33m/\u001b[0m\u001b[0mage\u001b[0m\u001b[1;33m\u001b[0m\u001b[1;33m\u001b[0m\u001b[0m\n\u001b[1;32m----> 6\u001b[1;33m         \u001b[1;32mraise\u001b[0m \u001b[0mValueError\u001b[0m\u001b[1;33m(\u001b[0m\u001b[1;34m'hey cut it out'\u001b[0m\u001b[1;33m)\u001b[0m\u001b[1;33m\u001b[0m\u001b[1;33m\u001b[0m\u001b[0m\n\u001b[0m\u001b[0;32m      7\u001b[0m     \u001b[1;32mexcept\u001b[0m \u001b[0mZeroDivisionError\u001b[0m\u001b[1;33m:\u001b[0m\u001b[1;33m\u001b[0m\u001b[1;33m\u001b[0m\u001b[0m\n\u001b[0;32m      8\u001b[0m         \u001b[0mprint\u001b[0m\u001b[1;33m(\u001b[0m\u001b[1;34m'Please enter age higher than 0'\u001b[0m\u001b[1;33m)\u001b[0m\u001b[1;33m\u001b[0m\u001b[1;33m\u001b[0m\u001b[0m\n",
      "\u001b[1;31mValueError\u001b[0m: hey cut it out"
     ]
    }
   ],
   "source": [
    "# Example 6 - throw your own error using raise\n",
    "while True:\n",
    "    try:\n",
    "        age = int(input('What is your age? '))\n",
    "        10/age\n",
    "        raise ValueError('hey cut it out')\n",
    "    except ZeroDivisionError:\n",
    "        print('Please enter age higher than 0')\n",
    "    else:\n",
    "        print('Thank you!')\n",
    "        break\n",
    "    finally:\n",
    "        print('ok, i am finally done!')"
   ]
  },
  {
   "cell_type": "code",
   "execution_count": 21,
   "metadata": {},
   "outputs": [
    {
     "name": "stdout",
     "output_type": "stream",
     "text": [
      "What is your age? 5\n",
      "ok, i am finally done!\n"
     ]
    },
    {
     "ename": "Exception",
     "evalue": "hey cut it out",
     "output_type": "error",
     "traceback": [
      "\u001b[1;31m---------------------------------------------------------------------------\u001b[0m",
      "\u001b[1;31mException\u001b[0m                                 Traceback (most recent call last)",
      "\u001b[1;32m<ipython-input-21-a2f8fd5b4284>\u001b[0m in \u001b[0;36m<module>\u001b[1;34m\u001b[0m\n\u001b[0;32m      4\u001b[0m         \u001b[0mage\u001b[0m \u001b[1;33m=\u001b[0m \u001b[0mint\u001b[0m\u001b[1;33m(\u001b[0m\u001b[0minput\u001b[0m\u001b[1;33m(\u001b[0m\u001b[1;34m'What is your age? '\u001b[0m\u001b[1;33m)\u001b[0m\u001b[1;33m)\u001b[0m\u001b[1;33m\u001b[0m\u001b[1;33m\u001b[0m\u001b[0m\n\u001b[0;32m      5\u001b[0m         \u001b[1;36m10\u001b[0m\u001b[1;33m/\u001b[0m\u001b[0mage\u001b[0m\u001b[1;33m\u001b[0m\u001b[1;33m\u001b[0m\u001b[0m\n\u001b[1;32m----> 6\u001b[1;33m         \u001b[1;32mraise\u001b[0m \u001b[0mException\u001b[0m\u001b[1;33m(\u001b[0m\u001b[1;34m'hey cut it out'\u001b[0m\u001b[1;33m)\u001b[0m\u001b[1;33m\u001b[0m\u001b[1;33m\u001b[0m\u001b[0m\n\u001b[0m\u001b[0;32m      7\u001b[0m     \u001b[1;32mexcept\u001b[0m \u001b[0mZeroDivisionError\u001b[0m\u001b[1;33m:\u001b[0m\u001b[1;33m\u001b[0m\u001b[1;33m\u001b[0m\u001b[0m\n\u001b[0;32m      8\u001b[0m         \u001b[0mprint\u001b[0m\u001b[1;33m(\u001b[0m\u001b[1;34m'Please enter age higher than 0'\u001b[0m\u001b[1;33m)\u001b[0m\u001b[1;33m\u001b[0m\u001b[1;33m\u001b[0m\u001b[0m\n",
      "\u001b[1;31mException\u001b[0m: hey cut it out"
     ]
    }
   ],
   "source": [
    "# Example 7 - raise exception\n",
    "while True:\n",
    "    try:\n",
    "        age = int(input('What is your age? '))\n",
    "        10/age\n",
    "        raise Exception('hey cut it out')\n",
    "    except ZeroDivisionError:\n",
    "        print('Please enter age higher than 0')\n",
    "    else:\n",
    "        print('Thank you!')\n",
    "        break\n",
    "    finally:\n",
    "        print('ok, i am finally done!')"
   ]
  },
  {
   "cell_type": "code",
   "execution_count": null,
   "metadata": {},
   "outputs": [],
   "source": []
  }
 ],
 "metadata": {
  "kernelspec": {
   "display_name": "Python 3",
   "language": "python",
   "name": "python3"
  },
  "language_info": {
   "codemirror_mode": {
    "name": "ipython",
    "version": 3
   },
   "file_extension": ".py",
   "mimetype": "text/x-python",
   "name": "python",
   "nbconvert_exporter": "python",
   "pygments_lexer": "ipython3",
   "version": "3.8.5"
  }
 },
 "nbformat": 4,
 "nbformat_minor": 4
}
